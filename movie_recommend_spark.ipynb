{
 "cells": [
  {
   "cell_type": "code",
   "execution_count": 21,
   "metadata": {},
   "outputs": [],
   "source": [
    "from pyspark import SparkContext\n",
    "from pyspark.mllib.recommendation import ALS\n",
    "from pyspark.ml.evaluation import RegressionEvaluator\n",
    "from pyspark.ml.tuning import TrainValidationSplit, ParamGridBuilder\n",
    "# ops \n",
    "from time import time\n",
    "import time\n",
    "import math\n",
    "import os \n",
    "import pandas as pd \n",
    "import numpy as np \n",
    "\n"
   ]
  },
  {
   "cell_type": "code",
   "execution_count": 2,
   "metadata": {},
   "outputs": [],
   "source": [
    "# import sc  (SparkContext)\n",
    "from pyspark import SparkContext\n",
    "sc =SparkContext()"
   ]
  },
  {
   "cell_type": "code",
   "execution_count": 3,
   "metadata": {},
   "outputs": [
    {
     "data": {
      "text/html": [
       "\n",
       "        <div>\n",
       "            <p><b>SparkContext</b></p>\n",
       "\n",
       "            <p><a href=\"http://192.168.1.33:4040\">Spark UI</a></p>\n",
       "\n",
       "            <dl>\n",
       "              <dt>Version</dt>\n",
       "                <dd><code>v2.3.0</code></dd>\n",
       "              <dt>Master</dt>\n",
       "                <dd><code>local[*]</code></dd>\n",
       "              <dt>AppName</dt>\n",
       "                <dd><code>pyspark-shell</code></dd>\n",
       "            </dl>\n",
       "        </div>\n",
       "        "
      ],
      "text/plain": [
       "<SparkContext master=local[*] appName=pyspark-shell>"
      ]
     },
     "execution_count": 3,
     "metadata": {},
     "output_type": "execute_result"
    }
   ],
   "source": [
    "sc"
   ]
  },
  {
   "cell_type": "code",
   "execution_count": 3,
   "metadata": {},
   "outputs": [],
   "source": [
    "datasets_path = '/Users/yennanliu/movie_recommendation/datasets/'\n",
    "small_ratings_file = os.path.join(datasets_path, 'ml-latest-small', 'ratings.csv')\n",
    "df_rating=pd.read_csv(small_ratings_file)\n",
    "small_movies_file = os.path.join(datasets_path, 'ml-latest-small', 'movies.csv')\n",
    "df_movie=pd.read_csv(small_movies_file)"
   ]
  },
  {
   "cell_type": "code",
   "execution_count": 4,
   "metadata": {},
   "outputs": [
    {
     "data": {
      "text/html": [
       "<div>\n",
       "<style scoped>\n",
       "    .dataframe tbody tr th:only-of-type {\n",
       "        vertical-align: middle;\n",
       "    }\n",
       "\n",
       "    .dataframe tbody tr th {\n",
       "        vertical-align: top;\n",
       "    }\n",
       "\n",
       "    .dataframe thead th {\n",
       "        text-align: right;\n",
       "    }\n",
       "</style>\n",
       "<table border=\"1\" class=\"dataframe\">\n",
       "  <thead>\n",
       "    <tr style=\"text-align: right;\">\n",
       "      <th></th>\n",
       "      <th>userId</th>\n",
       "      <th>movieId</th>\n",
       "      <th>rating</th>\n",
       "      <th>timestamp</th>\n",
       "    </tr>\n",
       "  </thead>\n",
       "  <tbody>\n",
       "    <tr>\n",
       "      <th>0</th>\n",
       "      <td>1</td>\n",
       "      <td>31</td>\n",
       "      <td>2.5</td>\n",
       "      <td>1260759144</td>\n",
       "    </tr>\n",
       "    <tr>\n",
       "      <th>1</th>\n",
       "      <td>1</td>\n",
       "      <td>1029</td>\n",
       "      <td>3.0</td>\n",
       "      <td>1260759179</td>\n",
       "    </tr>\n",
       "    <tr>\n",
       "      <th>2</th>\n",
       "      <td>1</td>\n",
       "      <td>1061</td>\n",
       "      <td>3.0</td>\n",
       "      <td>1260759182</td>\n",
       "    </tr>\n",
       "  </tbody>\n",
       "</table>\n",
       "</div>"
      ],
      "text/plain": [
       "   userId  movieId  rating   timestamp\n",
       "0       1       31     2.5  1260759144\n",
       "1       1     1029     3.0  1260759179\n",
       "2       1     1061     3.0  1260759182"
      ]
     },
     "execution_count": 4,
     "metadata": {},
     "output_type": "execute_result"
    }
   ],
   "source": [
    "df_rating.head(3)"
   ]
  },
  {
   "cell_type": "code",
   "execution_count": 5,
   "metadata": {},
   "outputs": [
    {
     "data": {
      "text/html": [
       "<div>\n",
       "<style scoped>\n",
       "    .dataframe tbody tr th:only-of-type {\n",
       "        vertical-align: middle;\n",
       "    }\n",
       "\n",
       "    .dataframe tbody tr th {\n",
       "        vertical-align: top;\n",
       "    }\n",
       "\n",
       "    .dataframe thead th {\n",
       "        text-align: right;\n",
       "    }\n",
       "</style>\n",
       "<table border=\"1\" class=\"dataframe\">\n",
       "  <thead>\n",
       "    <tr style=\"text-align: right;\">\n",
       "      <th></th>\n",
       "      <th>movieId</th>\n",
       "      <th>title</th>\n",
       "      <th>genres</th>\n",
       "    </tr>\n",
       "  </thead>\n",
       "  <tbody>\n",
       "    <tr>\n",
       "      <th>0</th>\n",
       "      <td>1</td>\n",
       "      <td>Toy Story (1995)</td>\n",
       "      <td>Adventure|Animation|Children|Comedy|Fantasy</td>\n",
       "    </tr>\n",
       "    <tr>\n",
       "      <th>1</th>\n",
       "      <td>2</td>\n",
       "      <td>Jumanji (1995)</td>\n",
       "      <td>Adventure|Children|Fantasy</td>\n",
       "    </tr>\n",
       "    <tr>\n",
       "      <th>2</th>\n",
       "      <td>3</td>\n",
       "      <td>Grumpier Old Men (1995)</td>\n",
       "      <td>Comedy|Romance</td>\n",
       "    </tr>\n",
       "  </tbody>\n",
       "</table>\n",
       "</div>"
      ],
      "text/plain": [
       "   movieId                    title  \\\n",
       "0        1         Toy Story (1995)   \n",
       "1        2           Jumanji (1995)   \n",
       "2        3  Grumpier Old Men (1995)   \n",
       "\n",
       "                                        genres  \n",
       "0  Adventure|Animation|Children|Comedy|Fantasy  \n",
       "1                   Adventure|Children|Fantasy  \n",
       "2                               Comedy|Romance  "
      ]
     },
     "execution_count": 5,
     "metadata": {},
     "output_type": "execute_result"
    }
   ],
   "source": [
    "df_movie.head(3)"
   ]
  },
  {
   "cell_type": "code",
   "execution_count": 6,
   "metadata": {},
   "outputs": [],
   "source": [
    "\n",
    "def get_data_preview():\n",
    "\tdatasets_path = '/Users/yennanliu/movie_recommendation/datasets/'\n",
    "\tsmall_ratings_file = os.path.join(datasets_path, 'ml-latest-small', 'ratings.csv')\n",
    "\tsmall_movies_file = os.path.join(datasets_path, 'ml-latest-small', 'movies.csv')\n",
    "\tprint (\" ----------------------- \")\n",
    "\ttime.sleep(5)\n",
    "\tdf_rating=pd.read_csv(small_ratings_file)\n",
    "\tdf_movie=pd.read_csv(small_movies_file)\n",
    "\tprint (df_rating.head(3))\n",
    "\tprint (df_movie.head(3))\n",
    "\tprint (\" ----------------------- \")\n",
    "\ttime.sleep(5)\n",
    "\n",
    "\n",
    "\n",
    "\n",
    "\n",
    "def get_data(full_dataset=False):\n",
    "\n",
    "\tdatasets_path = '/Users/yennanliu/movie_recommendation/datasets/'\n",
    "\tif full_dataset==False:\n",
    "\t\t#------  rating small dataset  ------#\n",
    "\t\t# userid, movieid, rating, timestamp \n",
    "\t\tsmall_ratings_file = os.path.join(datasets_path, 'ml-latest-small', 'ratings.csv')\n",
    "\t\tsmall_ratings_raw_data = sc.textFile(small_ratings_file)\n",
    "\t\t# get heater \n",
    "\t\tsmall_ratings_raw_data_header = small_ratings_raw_data.take(1)[0]\n",
    "\t\t# filter out header \n",
    "\t\t# only get 1st, 2rd, and 3rd columns\n",
    "\t\tsmall_ratings_data = small_ratings_raw_data.filter(lambda line: line!=small_ratings_raw_data_header)\\\n",
    "\t\t.map(lambda line: line.split(\",\")).map(lambda tokens: (tokens[0],tokens[1],tokens[2])).cache()\n",
    "\t\t#------ movie dataset ------#\n",
    "\t\t# movieid, name \n",
    "\t\tsmall_movies_file = os.path.join(datasets_path, 'ml-latest-small', 'movies.csv')\n",
    "\t\tsmall_movies_raw_data = sc.textFile(small_movies_file)\n",
    "\t\tsmall_movies_raw_data_header = small_movies_raw_data.take(1)[0]\n",
    "\t\t# filter out header \n",
    "\t\tsmall_movies_data = small_movies_raw_data.filter(lambda line: line!=small_movies_raw_data_header)\\\n",
    "\t\t.map(lambda line: line.split(\",\")).map(lambda tokens: (tokens[0],tokens[1])).cache()\n",
    "\t\treturn small_ratings_data, small_movies_data\n",
    "\n",
    "\telif full_dataset==True:\n",
    "\t\t#------ rating completed dataset  ------# \n",
    "\t\tcomplete_ratings_file = os.path.join(datasets_path, 'ml-latest', 'ratings.csv')\n",
    "\t\tcomplete_ratings_raw_data = sc.textFile(complete_ratings_file)\n",
    "\t\tcomplete_ratings_raw_data_header = complete_ratings_raw_data.take(1)[0]\n",
    "\t\t# filter out header \n",
    "\t\tcomplete_ratings_data = complete_ratings_raw_data.filter(lambda line: line!=complete_ratings_raw_data_header)\\\n",
    "\t\t    .map(lambda line: line.split(\",\")).map(lambda tokens: (int(tokens[0]),int(tokens[1]),float(tokens[2]))).cache()\n",
    "\t\t#------ movie completed dataset  ------# \n",
    "\t\tcomplete_movies_file = os.path.join(datasets_path, 'ml-latest', 'movies.csv')\n",
    "\t\tcomplete_movies_raw_data = sc.textFile(complete_movies_file)\n",
    "\t\tcomplete_movies_raw_data_header = complete_movies_raw_data.take(1)[0]\n",
    "\t\t# filter out header \n",
    "\t\tcomplete_movies_data = complete_movies_raw_data.filter(lambda line: line!=complete_movies_raw_data_header)\\\n",
    "\t\t    .map(lambda line: line.split(\",\")).map(lambda tokens: (int(tokens[0]),tokens[1],tokens[2])).cache()\n",
    "\t\tcomplete_movies_titles = complete_movies_data.map(lambda x: (int(x[0]),x[1]))\n",
    "\t\treturn complete_ratings_data, complete_movies_data\n",
    "\n",
    " \n",
    "\n",
    "\n",
    "def train_test_split(dataset):\n",
    "\t# split data into train (60%), validate (20%), and test (20%)\n",
    "\ttraining_RDD, validation_RDD, test_RDD = dataset.randomSplit([6, 2, 2])\n",
    "\tvalidation_for_predict_RDD = validation_RDD.map(lambda x: (x[0], x[1]))\n",
    "\ttest_for_predict_RDD = test_RDD.map(lambda x: (x[0], x[1]))\n",
    "\treturn training_RDD, validation_RDD, test_RDD, validation_for_predict_RDD, test_for_predict_RDD\n",
    "\n",
    "# ML \n",
    "\n",
    "\n",
    "def ALS_model(training_RDD,validation_RDD,validation_for_predict_RDD):\n",
    "\t# ------------- \n",
    "\t# super parameters\n",
    "\terr=0\n",
    "\tmin_error = float('inf')\n",
    "\tparameter = {}\n",
    "\tparameter['seed'] = 30\n",
    "\tparameter['iterations'] = 10\n",
    "\tparameter['regularization_parameter'] = 0.1\n",
    "\tparameter['ranks'] = [4, 8, 12]\n",
    "\tparameter['errors'] = [0, 0, 0]\n",
    "\tparameter['tolerance'] = 0.02\n",
    "\t# -------------\n",
    "\t# train the model over super parameters sets \n",
    "\tfor rank in parameter['ranks']:\n",
    "\t\tmodel = ALS.train(training_RDD, rank, seed=parameter['seed'], iterations=parameter['iterations'],lambda_=parameter['regularization_parameter'])\n",
    "\t\tpredictions = model.predictAll(validation_for_predict_RDD).map(lambda r: ((r[0], r[1]), r[2]))\n",
    "\t\t# join real rating and predicted rating \n",
    "\t\trates_and_preds = validation_RDD.map(lambda r: ((int(r[0]), int(r[1])), float(r[2]))).join(predictions)\n",
    "\t\t# predicted rating error (mean square error)\n",
    "\t\terror = math.sqrt(rates_and_preds.map(lambda r: (r[1][0] - r[1][1])**2).mean())\n",
    "\t\tparameter['errors'][err] = error\n",
    "\t\terr += 1\n",
    "\t\t# --- fix here for python 3 --- #\n",
    "\t\tprint ('For rank %s the RMSE is %s' % (rank, error))\n",
    "\t\tif error < min_error:\n",
    "\t\t\tmin_error = error\n",
    "\t\t\tbest_rank = rank\n",
    "\t# --- fix here for python 3 --- #\n",
    "\tprint ('The best model was trained with rank %s' % best_rank)\n",
    "\n",
    "\treturn model, predictions, rates_and_preds, min_error,best_rank, parameter\n",
    "\n",
    "\n",
    "def ALS_model_predict(model,test_for_predict_RDD,test_RDD):\n",
    "\t#model = ALS.train(training_RDD, best_rank, seed=parameter['seed'], iterations=parameter['iterations'],lambda_=parameter['regularization_parameter'])\n",
    "\tpredictions = model.predictAll(test_for_predict_RDD).map(lambda r: ((r[0], r[1]), r[2]))\n",
    "\trates_and_preds = test_RDD.map(lambda r: ((int(r[0]), int(r[1])), float(r[2]))).join(predictions)\n",
    "\terror = math.sqrt(rates_and_preds.map(lambda r: (r[1][0] - r[1][1])**2).mean())\n",
    "\tprint ('For testing data the RMSE is %s' % (error))\n",
    "\n"
   ]
  },
  {
   "cell_type": "code",
   "execution_count": 7,
   "metadata": {},
   "outputs": [],
   "source": [
    "# get data \n",
    "small_ratings_data,small_movies_data = get_data()"
   ]
  },
  {
   "cell_type": "code",
   "execution_count": 8,
   "metadata": {},
   "outputs": [],
   "source": [
    "# train, test split \n",
    "training_RDD, validation_RDD, test_RDD, validation_for_predict_RDD, test_for_predict_RDD = train_test_split(small_ratings_data)"
   ]
  },
  {
   "cell_type": "code",
   "execution_count": 9,
   "metadata": {},
   "outputs": [
    {
     "name": "stdout",
     "output_type": "stream",
     "text": [
      "For rank 4 the RMSE is 0.9401609617479811\n",
      "For rank 8 the RMSE is 0.9449944748899938\n",
      "For rank 12 the RMSE is 0.9506949318393243\n",
      "The best model was trained with rank 4\n"
     ]
    }
   ],
   "source": [
    "# run ALS model \n",
    "\n",
    "model, predictions, rates_and_preds, errors, min_error,best_rank = ALS_model(training_RDD,validation_RDD,validation_for_predict_RDD)"
   ]
  },
  {
   "cell_type": "code",
   "execution_count": 10,
   "metadata": {},
   "outputs": [
    {
     "data": {
      "text/plain": [
       "[('1', '31', '2.5'), ('1', '1029', '3.0'), ('1', '1061', '3.0')]"
      ]
     },
     "execution_count": 10,
     "metadata": {},
     "output_type": "execute_result"
    }
   ],
   "source": [
    "# preview rating data \n",
    "small_ratings_data.take(3)"
   ]
  },
  {
   "cell_type": "code",
   "execution_count": 11,
   "metadata": {},
   "outputs": [
    {
     "data": {
      "text/plain": [
       "[('1', 'Toy Story (1995)'),\n",
       " ('2', 'Jumanji (1995)'),\n",
       " ('3', 'Grumpier Old Men (1995)')]"
      ]
     },
     "execution_count": 11,
     "metadata": {},
     "output_type": "execute_result"
    }
   ],
   "source": [
    "# preview movie data \n",
    "small_movies_data.take(3)"
   ]
  },
  {
   "cell_type": "code",
   "execution_count": 12,
   "metadata": {},
   "outputs": [
    {
     "data": {
      "text/plain": [
       "[((564, 1084), 4.0765296160322055),\n",
       " ((436, 1084), 3.9781325083761034),\n",
       " ((533, 1084), 3.0107373107957556)]"
      ]
     },
     "execution_count": 12,
     "metadata": {},
     "output_type": "execute_result"
    }
   ],
   "source": [
    "# preview predict \n",
    "# userid, movieid, rating\n",
    "predictions.take(3)"
   ]
  },
  {
   "cell_type": "code",
   "execution_count": 13,
   "metadata": {},
   "outputs": [
    {
     "data": {
      "text/plain": [
       "[((393, 2747), (2.0, 1.9116388074370707)),\n",
       " ((146, 736), (3.5, 3.0677951437837816)),\n",
       " ((212, 520), (4.0, 2.2724643989967257))]"
      ]
     },
     "execution_count": 13,
     "metadata": {},
     "output_type": "execute_result"
    }
   ],
   "source": [
    "###  preview ture rating and predictions ### \n",
    "# userid, movieid, user rating, predicted rating\n",
    "rates_and_preds.take(3)"
   ]
  },
  {
   "cell_type": "code",
   "execution_count": 14,
   "metadata": {},
   "outputs": [
    {
     "data": {
      "text/plain": [
       "0.9401609617479811"
      ]
     },
     "execution_count": 14,
     "metadata": {},
     "output_type": "execute_result"
    }
   ],
   "source": [
    "# view errors \n",
    "errors"
   ]
  },
  {
   "cell_type": "code",
   "execution_count": 15,
   "metadata": {},
   "outputs": [
    {
     "data": {
      "text/plain": [
       "(4,\n",
       " {'errors': [0.9401609617479811, 0.9449944748899938, 0.9506949318393243],\n",
       "  'iterations': 10,\n",
       "  'ranks': [4, 8, 12],\n",
       "  'regularization_parameter': 0.1,\n",
       "  'seed': 30,\n",
       "  'tolerance': 0.02})"
      ]
     },
     "execution_count": 15,
     "metadata": {},
     "output_type": "execute_result"
    }
   ],
   "source": [
    "# view min errors (best output)\n",
    "# view best rank (super parameter set :  ranks = [4, 8, 12])\n",
    "min_error ,best_rank"
   ]
  },
  {
   "cell_type": "code",
   "execution_count": 17,
   "metadata": {},
   "outputs": [],
   "source": [
    "parameter = {}\n",
    "parameter['seed'] = 30\n",
    "parameter['iterations'] = 10\n",
    "parameter['regularization_parameter'] = 0.1\n",
    "parameter['ranks'] = [4, 8, 12]\n",
    "parameter['errors'] = [0, 0, 0]\n",
    "parameter['tolerance'] = 0.02"
   ]
  },
  {
   "cell_type": "code",
   "execution_count": null,
   "metadata": {},
   "outputs": [],
   "source": []
  },
  {
   "cell_type": "code",
   "execution_count": 19,
   "metadata": {},
   "outputs": [],
   "source": [
    "########################## run the whole process  ##########################"
   ]
  },
  {
   "cell_type": "code",
   "execution_count": 22,
   "metadata": {},
   "outputs": [
    {
     "name": "stdout",
     "output_type": "stream",
     "text": [
      " ----------------------- \n",
      "   userId  movieId  rating   timestamp\n",
      "0       1       31     2.5  1260759144\n",
      "1       1     1029     3.0  1260759179\n",
      "2       1     1061     3.0  1260759182\n",
      "   movieId                    title  \\\n",
      "0        1         Toy Story (1995)   \n",
      "1        2           Jumanji (1995)   \n",
      "2        3  Grumpier Old Men (1995)   \n",
      "\n",
      "                                        genres  \n",
      "0  Adventure|Animation|Children|Comedy|Fantasy  \n",
      "1                   Adventure|Children|Fantasy  \n",
      "2                               Comedy|Romance  \n",
      " ----------------------- \n",
      "For rank 4 the RMSE is 0.9367225318261077\n",
      "For rank 8 the RMSE is 0.947739543257468\n",
      "For rank 12 the RMSE is 0.9465096746020654\n",
      "The best model was trained with rank 4\n",
      "************\n",
      "For testing data the RMSE is 0.9495904193775816\n",
      "************\n"
     ]
    }
   ],
   "source": [
    "get_data_preview()\n",
    "# get data \n",
    "small_ratings_data,small_movies_data = get_data()\n",
    "# train, test split \n",
    "training_RDD, validation_RDD, test_RDD, validation_for_predict_RDD, test_for_predict_RDD = train_test_split(small_ratings_data)\n",
    "# ------------ Model Training  ------------ #\n",
    "# train ALS model \n",
    "model, predictions, rates_and_preds, min_error,best_rank, parameter = ALS_model(training_RDD,validation_RDD,validation_for_predict_RDD)\n",
    "# predict with trained ALS model \n",
    "print ('************')\n",
    "ALS_model_predict(model,test_for_predict_RDD,test_RDD)\n",
    "print ('************')"
   ]
  }
 ],
 "metadata": {
  "kernelspec": {
   "display_name": "Environment (conda_pyspark_)",
   "language": "python",
   "name": "conda_pyspark_"
  },
  "language_info": {
   "codemirror_mode": {
    "name": "ipython",
    "version": 3
   },
   "file_extension": ".py",
   "mimetype": "text/x-python",
   "name": "python",
   "nbconvert_exporter": "python",
   "pygments_lexer": "ipython3",
   "version": "3.5.5"
  }
 },
 "nbformat": 4,
 "nbformat_minor": 2
}
