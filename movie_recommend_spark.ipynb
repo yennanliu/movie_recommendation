{
 "cells": [
  {
   "cell_type": "code",
   "execution_count": 34,
   "metadata": {},
   "outputs": [],
   "source": [
    "from pyspark import SparkContext\n",
    "from pyspark.mllib.recommendation import ALS\n",
    "from pyspark.ml.evaluation import RegressionEvaluator\n",
    "from pyspark.ml.tuning import TrainValidationSplit, ParamGridBuilder\n",
    "# ops \n",
    "from time import time\n",
    "import time\n",
    "import math\n",
    "import os \n",
    "import pandas as pd \n",
    "import numpy as np \n",
    "\n"
   ]
  },
  {
   "cell_type": "code",
   "execution_count": 2,
   "metadata": {},
   "outputs": [],
   "source": [
    "# import sc  (SparkContext)\n",
    "from pyspark import SparkContext\n",
    "sc =SparkContext()"
   ]
  },
  {
   "cell_type": "code",
   "execution_count": 3,
   "metadata": {},
   "outputs": [
    {
     "data": {
      "text/html": [
       "\n",
       "        <div>\n",
       "            <p><b>SparkContext</b></p>\n",
       "\n",
       "            <p><a href=\"http://192.168.1.33:4040\">Spark UI</a></p>\n",
       "\n",
       "            <dl>\n",
       "              <dt>Version</dt>\n",
       "                <dd><code>v2.3.0</code></dd>\n",
       "              <dt>Master</dt>\n",
       "                <dd><code>local[*]</code></dd>\n",
       "              <dt>AppName</dt>\n",
       "                <dd><code>pyspark-shell</code></dd>\n",
       "            </dl>\n",
       "        </div>\n",
       "        "
      ],
      "text/plain": [
       "<SparkContext master=local[*] appName=pyspark-shell>"
      ]
     },
     "execution_count": 3,
     "metadata": {},
     "output_type": "execute_result"
    }
   ],
   "source": [
    "sc"
   ]
  },
  {
   "cell_type": "code",
   "execution_count": 4,
   "metadata": {},
   "outputs": [],
   "source": [
    "datasets_path = '/Users/yennanliu/movie_recommendation/datasets/'\n",
    "small_ratings_file = os.path.join(datasets_path, 'ml-latest-small', 'ratings.csv')\n",
    "df_rating=pd.read_csv(small_ratings_file)\n",
    "small_movies_file = os.path.join(datasets_path, 'ml-latest-small', 'movies.csv')\n",
    "df_movie=pd.read_csv(small_movies_file)"
   ]
  },
  {
   "cell_type": "code",
   "execution_count": 5,
   "metadata": {},
   "outputs": [
    {
     "data": {
      "text/html": [
       "<div>\n",
       "<style scoped>\n",
       "    .dataframe tbody tr th:only-of-type {\n",
       "        vertical-align: middle;\n",
       "    }\n",
       "\n",
       "    .dataframe tbody tr th {\n",
       "        vertical-align: top;\n",
       "    }\n",
       "\n",
       "    .dataframe thead th {\n",
       "        text-align: right;\n",
       "    }\n",
       "</style>\n",
       "<table border=\"1\" class=\"dataframe\">\n",
       "  <thead>\n",
       "    <tr style=\"text-align: right;\">\n",
       "      <th></th>\n",
       "      <th>userId</th>\n",
       "      <th>movieId</th>\n",
       "      <th>rating</th>\n",
       "      <th>timestamp</th>\n",
       "    </tr>\n",
       "  </thead>\n",
       "  <tbody>\n",
       "    <tr>\n",
       "      <th>0</th>\n",
       "      <td>1</td>\n",
       "      <td>31</td>\n",
       "      <td>2.5</td>\n",
       "      <td>1260759144</td>\n",
       "    </tr>\n",
       "    <tr>\n",
       "      <th>1</th>\n",
       "      <td>1</td>\n",
       "      <td>1029</td>\n",
       "      <td>3.0</td>\n",
       "      <td>1260759179</td>\n",
       "    </tr>\n",
       "    <tr>\n",
       "      <th>2</th>\n",
       "      <td>1</td>\n",
       "      <td>1061</td>\n",
       "      <td>3.0</td>\n",
       "      <td>1260759182</td>\n",
       "    </tr>\n",
       "  </tbody>\n",
       "</table>\n",
       "</div>"
      ],
      "text/plain": [
       "   userId  movieId  rating   timestamp\n",
       "0       1       31     2.5  1260759144\n",
       "1       1     1029     3.0  1260759179\n",
       "2       1     1061     3.0  1260759182"
      ]
     },
     "execution_count": 5,
     "metadata": {},
     "output_type": "execute_result"
    }
   ],
   "source": [
    "df_rating.head(3)"
   ]
  },
  {
   "cell_type": "code",
   "execution_count": 6,
   "metadata": {},
   "outputs": [
    {
     "data": {
      "text/html": [
       "<div>\n",
       "<style scoped>\n",
       "    .dataframe tbody tr th:only-of-type {\n",
       "        vertical-align: middle;\n",
       "    }\n",
       "\n",
       "    .dataframe tbody tr th {\n",
       "        vertical-align: top;\n",
       "    }\n",
       "\n",
       "    .dataframe thead th {\n",
       "        text-align: right;\n",
       "    }\n",
       "</style>\n",
       "<table border=\"1\" class=\"dataframe\">\n",
       "  <thead>\n",
       "    <tr style=\"text-align: right;\">\n",
       "      <th></th>\n",
       "      <th>movieId</th>\n",
       "      <th>title</th>\n",
       "      <th>genres</th>\n",
       "    </tr>\n",
       "  </thead>\n",
       "  <tbody>\n",
       "    <tr>\n",
       "      <th>0</th>\n",
       "      <td>1</td>\n",
       "      <td>Toy Story (1995)</td>\n",
       "      <td>Adventure|Animation|Children|Comedy|Fantasy</td>\n",
       "    </tr>\n",
       "    <tr>\n",
       "      <th>1</th>\n",
       "      <td>2</td>\n",
       "      <td>Jumanji (1995)</td>\n",
       "      <td>Adventure|Children|Fantasy</td>\n",
       "    </tr>\n",
       "    <tr>\n",
       "      <th>2</th>\n",
       "      <td>3</td>\n",
       "      <td>Grumpier Old Men (1995)</td>\n",
       "      <td>Comedy|Romance</td>\n",
       "    </tr>\n",
       "  </tbody>\n",
       "</table>\n",
       "</div>"
      ],
      "text/plain": [
       "   movieId                    title  \\\n",
       "0        1         Toy Story (1995)   \n",
       "1        2           Jumanji (1995)   \n",
       "2        3  Grumpier Old Men (1995)   \n",
       "\n",
       "                                        genres  \n",
       "0  Adventure|Animation|Children|Comedy|Fantasy  \n",
       "1                   Adventure|Children|Fantasy  \n",
       "2                               Comedy|Romance  "
      ]
     },
     "execution_count": 6,
     "metadata": {},
     "output_type": "execute_result"
    }
   ],
   "source": [
    "df_movie.head(3)"
   ]
  },
  {
   "cell_type": "code",
   "execution_count": null,
   "metadata": {},
   "outputs": [],
   "source": []
  },
  {
   "cell_type": "code",
   "execution_count": 185,
   "metadata": {},
   "outputs": [],
   "source": [
    "import time \n",
    "\n",
    "\n",
    "def get_data_preview():\n",
    "\tdatasets_path = '/Users/yennanliu/movie_recommendation/datasets/'\n",
    "\tsmall_ratings_file = os.path.join(datasets_path, 'ml-latest-small', 'ratings.csv')\n",
    "\tsmall_movies_file = os.path.join(datasets_path, 'ml-latest-small', 'movies.csv')\n",
    "\tprint (\" ----------------------- \")\n",
    "\ttime.sleep(5)\n",
    "\tdf_rating=pd.read_csv(small_ratings_file)\n",
    "\tdf_movie=pd.read_csv(small_movies_file)\n",
    "\tprint (df_rating.head(3))\n",
    "\tprint (df_movie.head(3))\n",
    "\tprint (\" ----------------------- \")\n",
    "\ttime.sleep(5)\n",
    "\n",
    "    \n",
    "def get_movie_name_from_id(movie_title,id):\n",
    "\tmovie_list = dict(movie_title.take(10000))\n",
    "\ttry:\n",
    "\t\tmovie_name = movie_list[id]\n",
    "\t\tprint ('movie_id :' , id)\n",
    "\t\tprint ('movie_name :' , movie_name)\n",
    "\t\treturn movie_name\n",
    "\texcept Exception as e:\n",
    "\t\t#print (e)\n",
    "\t\tprint ('insert movie_id :' , id)\n",
    "\t\tprint ('movie_id not exist')\n",
    "\n",
    "\n",
    "\n",
    "\n",
    "\n",
    "\n",
    "\n",
    "def get_data(full_dataset=False):\n",
    "\n",
    "\tdatasets_path = '/Users/yennanliu/movie_recommendation/datasets/'\n",
    "\tif full_dataset==False:\n",
    "\t\t#------  rating small dataset  ------#\n",
    "\t\t# userid, movieid, rating, timestamp \n",
    "\t\tsmall_ratings_file = os.path.join(datasets_path, 'ml-latest-small', 'ratings.csv')\n",
    "\t\tsmall_ratings_raw_data = sc.textFile(small_ratings_file)\n",
    "\t\t# get heater \n",
    "\t\tsmall_ratings_raw_data_header = small_ratings_raw_data.take(1)[0]\n",
    "\t\t# filter out header \n",
    "\t\t# only get 1st, 2rd, and 3rd columns\n",
    "\t\t# fix dtype to float  \n",
    "\t\tsmall_ratings_data = small_ratings_raw_data.filter(lambda line: line!=small_ratings_raw_data_header)\\\n",
    "\t\t.map(lambda line: line.split(\",\")).map(lambda tokens: (float(tokens[0]),float(tokens[1]),float(tokens[2]))).cache()\n",
    "\t\t#------ movie dataset ------#\n",
    "\t\t# movieid, name \n",
    "\t\tsmall_movies_file = os.path.join(datasets_path, 'ml-latest-small', 'movies.csv')\n",
    "\t\tsmall_movies_raw_data = sc.textFile(small_movies_file)\n",
    "\t\tsmall_movies_raw_data_header = small_movies_raw_data.take(1)[0]\n",
    "\t\t# filter out header \n",
    "\t\t# fix dtype to float  \n",
    "\t\tsmall_movies_data = small_movies_raw_data.filter(lambda line: line!=small_movies_raw_data_header)\\\n",
    "\t\t.map(lambda line: line.split(\",\")).map(lambda tokens: (tokens[0],tokens[1],tokens[2])).cache()\n",
    "\t\tsmall_movies_titles = small_movies_data.map(lambda x: (int(x[0]),x[1]))\n",
    "\t\treturn small_ratings_data, small_movies_data, small_movies_titles\n",
    "\n",
    "\telif full_dataset==True:\n",
    "\t\t#------ rating completed dataset  ------# \n",
    "\t\tcomplete_ratings_file = os.path.join(datasets_path, 'ml-latest', 'ratings.csv')\n",
    "\t\tcomplete_ratings_raw_data = sc.textFile(complete_ratings_file)\n",
    "\t\tcomplete_ratings_raw_data_header = complete_ratings_raw_data.take(1)[0]\n",
    "\t\t# filter out header \n",
    "\t\tcomplete_ratings_data = complete_ratings_raw_data.filter(lambda line: line!=complete_ratings_raw_data_header)\\\n",
    "\t\t    .map(lambda line: line.split(\",\")).map(lambda tokens: (int(tokens[0]),int(tokens[1]),float(tokens[2]))).cache()\n",
    "\t\t#------ movie completed dataset  ------# \n",
    "\t\tcomplete_movies_file = os.path.join(datasets_path, 'ml-latest', 'movies.csv')\n",
    "\t\tcomplete_movies_raw_data = sc.textFile(complete_movies_file)\n",
    "\t\tcomplete_movies_raw_data_header = complete_movies_raw_data.take(1)[0]\n",
    "\t\t# filter out header \n",
    "\t\tcomplete_movies_data = complete_movies_raw_data.filter(lambda line: line!=complete_movies_raw_data_header)\\\n",
    "\t\t    .map(lambda line: line.split(\",\")).map(lambda tokens: (int(tokens[0]),tokens[1],tokens[2])).cache()\n",
    "\t\tcomplete_movies_titles = complete_movies_data.map(lambda x: (int(x[0]),x[1]))\n",
    "\t\treturn complete_ratings_data, complete_movies_data, complete_movies_titles\n",
    "\n",
    " \n",
    "\n",
    "\n",
    "def get_feature(movie_RDD):\n",
    "    # get avg / count / features\n",
    "    small_movie_ID_with_ratings_RDD = (movie_RDD.map(lambda x: (x[1], x[2])).groupByKey())\n",
    "    small_movie_ID_avg_ratings_RDD = small_movie_ID_with_ratings_RDD.map(get_counts_and_averages)\n",
    "    small_movie_rating_counts_RDD = small_movie_ID_avg_ratings_RDD.map(lambda x: (x[0], x[1][0]))\n",
    "    print (small_movie_rating_counts_RDD)\n",
    "    return small_movie_rating_counts_RDD \n",
    "\n",
    "\n",
    "\n",
    "\n",
    "def train_test_split(dataset):\n",
    "\t# split data into train (60%), validate (20%), and test (20%)\n",
    "\ttraining_RDD, validation_RDD, test_RDD = dataset.randomSplit([6, 2, 2])\n",
    "\tvalidation_for_predict_RDD = validation_RDD.map(lambda x: (x[0], x[1]))\n",
    "\ttest_for_predict_RDD = test_RDD.map(lambda x: (x[0], x[1]))\n",
    "\treturn training_RDD, validation_RDD, test_RDD, validation_for_predict_RDD, test_for_predict_RDD\n",
    "\n",
    "\n",
    "def get_counts_and_averages(ID_and_ratings_tuple):\n",
    "    nratings = len(ID_and_ratings_tuple[1])\n",
    "    return ID_and_ratings_tuple[0], (nratings, float(sum(x for x in ID_and_ratings_tuple[1]))/nratings)\n",
    "\n",
    "def get_new_input_data():\n",
    "\tnew_user_ID = 0\n",
    "\n",
    "\t# The format of each line is (userID, movieID, rating)\n",
    "\tnew_user_ratings = [\n",
    "\t (0,260,9), # Star Wars (1977)\n",
    "\t (0,1,8), # Toy Story (1995)\n",
    "\t (0,16,7), # Casino (1995)\n",
    "\t (0,25,8), # Leaving Las Vegas (1995)\n",
    "\t (0,32,9), # Twelve Monkeys (a.k.a. 12 Monkeys) (1995)\n",
    "\t (0,335,4), # Flintstones, The (1994)\n",
    "\t (0,379,3), # Timecop (1994)\n",
    "\t (0,296,7), # Pulp Fiction (1994)\n",
    "\t (0,858,10) , # Godfather, The (1972)\n",
    "\t (0,50,8) # Usual Suspects, The (1995)\n",
    "\t]\n",
    "\tnew_user_ratings_RDD = sc.parallelize(new_user_ratings)\n",
    "\tprint ('New user ratings: %s' % new_user_ratings_RDD.take(10))\n",
    "\treturn new_user_ratings_RDD, new_user_ratings,new_user_ID\n",
    "\n",
    "\n",
    "\n",
    "\n",
    "def get_user_input_data(userid,movieid_array,rating_array):\n",
    "\tnew_user_ID = userid\n",
    "\tnew_user_ID_array=[new_user_ID for x in range(len(movieid_array))]\n",
    "\t# The format of each line is (userID, movieID, rating)\n",
    "\tnew_user_ratings = list(zip(new_user_ID_array,movieid_array,rating_array))\n",
    "\tnew_user_ratings_RDD = sc.parallelize(new_user_ratings)\n",
    "\tprint ('New user ratings: %s' % new_user_ratings_RDD.take(10))\n",
    "\treturn new_user_ratings_RDD, new_user_ratings,new_user_ID\n",
    "\n",
    "\n",
    "\n",
    "\n",
    "# ML \n",
    "\n",
    "\n",
    "def ALS_model(training_RDD,validation_RDD,validation_for_predict_RDD):\n",
    "\t# ------------- \n",
    "\t# super parameters\n",
    "\terr=0\n",
    "\tmin_error = float('inf')\n",
    "\tparameter = {}\n",
    "\tparameter['seed'] = 30\n",
    "\tparameter['iterations'] = 10\n",
    "\tparameter['regularization_parameter'] = 0.1\n",
    "\tparameter['ranks'] = [4, 8, 12]\n",
    "\tparameter['errors'] = [0, 0, 0]\n",
    "\tparameter['tolerance'] = 0.02\n",
    "\t# -------------\n",
    "\t# train the model over super parameters sets \n",
    "\tfor rank in parameter['ranks']:\n",
    "\t\tmodel = ALS.train(training_RDD, rank, seed=parameter['seed'], iterations=parameter['iterations'],lambda_=parameter['regularization_parameter'])\n",
    "\t\tpredictions = model.predictAll(validation_for_predict_RDD).map(lambda r: ((r[0], r[1]), r[2]))\n",
    "\t\t# join real rating and predicted rating \n",
    "\t\trates_and_preds = validation_RDD.map(lambda r: ((int(r[0]), int(r[1])), float(r[2]))).join(predictions)\n",
    "\t\t# predicted rating error (mean square error)\n",
    "\t\terror = math.sqrt(rates_and_preds.map(lambda r: (r[1][0] - r[1][1])**2).mean())\n",
    "\t\tparameter['errors'][err] = error\n",
    "\t\terr += 1\n",
    "\t\t# --- fix here for python 3 --- #\n",
    "\t\tprint ('For rank %s the RMSE is %s' % (rank, error))\n",
    "\t\tif error < min_error:\n",
    "\t\t\tmin_error = error\n",
    "\t\t\tbest_rank = rank\n",
    "\t# --- fix here for python 3 --- #\n",
    "\tprint ('The best model was trained with rank %s' % best_rank)\n",
    "\n",
    "\treturn model, predictions, rates_and_preds, min_error,best_rank, parameter\n",
    "\n",
    "\n",
    "def ALS_model_predict(model,test_for_predict_RDD,test_RDD):\n",
    "\t#model = ALS.train(training_RDD, best_rank, seed=parameter['seed'], iterations=parameter['iterations'],lambda_=parameter['regularization_parameter'])\n",
    "\tpredictions = model.predictAll(test_for_predict_RDD).map(lambda r: ((r[0], r[1]), r[2]))\n",
    "\trates_and_preds = test_RDD.map(lambda r: ((int(r[0]), int(r[1])), float(r[2]))).join(predictions)\n",
    "\terror = math.sqrt(rates_and_preds.map(lambda r: (r[1][0] - r[1][1])**2).mean())\n",
    "\tprint ('For testing data the RMSE is %s' % (error))\n",
    "\n"
   ]
  },
  {
   "cell_type": "code",
   "execution_count": null,
   "metadata": {},
   "outputs": [],
   "source": []
  },
  {
   "cell_type": "code",
   "execution_count": 8,
   "metadata": {},
   "outputs": [],
   "source": [
    "########################## run process step by step  ##########################"
   ]
  },
  {
   "cell_type": "code",
   "execution_count": 9,
   "metadata": {},
   "outputs": [],
   "source": [
    "# get data \n",
    "small_ratings_data,small_movies_data,small_movies_titles = get_data()"
   ]
  },
  {
   "cell_type": "code",
   "execution_count": 10,
   "metadata": {},
   "outputs": [],
   "source": [
    "# train, test split \n",
    "training_RDD, validation_RDD, test_RDD, validation_for_predict_RDD, test_for_predict_RDD = train_test_split(small_ratings_data)"
   ]
  },
  {
   "cell_type": "code",
   "execution_count": 11,
   "metadata": {},
   "outputs": [
    {
     "name": "stdout",
     "output_type": "stream",
     "text": [
      "For rank 4 the RMSE is 0.9455515910520641\n",
      "For rank 8 the RMSE is 0.9472441210112387\n",
      "For rank 12 the RMSE is 0.951113582929365\n",
      "The best model was trained with rank 4\n"
     ]
    }
   ],
   "source": [
    "# run ALS model \n",
    "\n",
    "model, predictions, rates_and_preds, errors, min_error,best_rank = ALS_model(training_RDD,validation_RDD,validation_for_predict_RDD)"
   ]
  },
  {
   "cell_type": "code",
   "execution_count": 12,
   "metadata": {},
   "outputs": [
    {
     "data": {
      "text/plain": [
       "[(1.0, 31.0, 2.5), (1.0, 1029.0, 3.0), (1.0, 1061.0, 3.0)]"
      ]
     },
     "execution_count": 12,
     "metadata": {},
     "output_type": "execute_result"
    }
   ],
   "source": [
    "# preview rating data \n",
    "small_ratings_data.take(3)"
   ]
  },
  {
   "cell_type": "code",
   "execution_count": 13,
   "metadata": {},
   "outputs": [
    {
     "data": {
      "text/plain": [
       "[('1', 'Toy Story (1995)', 'Adventure|Animation|Children|Comedy|Fantasy'),\n",
       " ('2', 'Jumanji (1995)', 'Adventure|Children|Fantasy'),\n",
       " ('3', 'Grumpier Old Men (1995)', 'Comedy|Romance')]"
      ]
     },
     "execution_count": 13,
     "metadata": {},
     "output_type": "execute_result"
    }
   ],
   "source": [
    "# preview movie data \n",
    "small_movies_data.take(3)"
   ]
  },
  {
   "cell_type": "code",
   "execution_count": 14,
   "metadata": {},
   "outputs": [
    {
     "data": {
      "text/plain": [
       "[((80, 1084), 4.3278394674388565),\n",
       " ((452, 1084), 3.330589866564371),\n",
       " ((65, 1084), 4.0599194778091805)]"
      ]
     },
     "execution_count": 14,
     "metadata": {},
     "output_type": "execute_result"
    }
   ],
   "source": [
    "# preview predict \n",
    "# userid, movieid, rating\n",
    "predictions.take(3)"
   ]
  },
  {
   "cell_type": "code",
   "execution_count": 15,
   "metadata": {},
   "outputs": [
    {
     "data": {
      "text/plain": [
       "[((563, 44191), (4.0, 3.8801663012643)),\n",
       " ((624, 688), (2.0, 1.9910253946350482)),\n",
       " ((378, 8376), (3.5, 1.552039272884325))]"
      ]
     },
     "execution_count": 15,
     "metadata": {},
     "output_type": "execute_result"
    }
   ],
   "source": [
    "###  preview ture rating and predictions ### \n",
    "# userid, movieid, user rating, predicted rating\n",
    "rates_and_preds.take(3)"
   ]
  },
  {
   "cell_type": "code",
   "execution_count": 16,
   "metadata": {},
   "outputs": [
    {
     "data": {
      "text/plain": [
       "0.9455515910520641"
      ]
     },
     "execution_count": 16,
     "metadata": {},
     "output_type": "execute_result"
    }
   ],
   "source": [
    "# view errors \n",
    "errors"
   ]
  },
  {
   "cell_type": "code",
   "execution_count": 17,
   "metadata": {},
   "outputs": [
    {
     "data": {
      "text/plain": [
       "(4,\n",
       " {'errors': [0.9455515910520641, 0.9472441210112387, 0.951113582929365],\n",
       "  'iterations': 10,\n",
       "  'ranks': [4, 8, 12],\n",
       "  'regularization_parameter': 0.1,\n",
       "  'seed': 30,\n",
       "  'tolerance': 0.02})"
      ]
     },
     "execution_count": 17,
     "metadata": {},
     "output_type": "execute_result"
    }
   ],
   "source": [
    "# view min errors (best output)\n",
    "# view best rank (super parameter set :  ranks = [4, 8, 12])\n",
    "min_error ,best_rank"
   ]
  },
  {
   "cell_type": "code",
   "execution_count": 18,
   "metadata": {},
   "outputs": [],
   "source": [
    "parameter = {}\n",
    "parameter['seed'] = 30\n",
    "parameter['iterations'] = 10\n",
    "parameter['regularization_parameter'] = 0.1\n",
    "parameter['ranks'] = [4, 8, 12]\n",
    "parameter['errors'] = [0, 0, 0]\n",
    "parameter['tolerance'] = 0.02"
   ]
  },
  {
   "cell_type": "code",
   "execution_count": null,
   "metadata": {},
   "outputs": [],
   "source": []
  },
  {
   "cell_type": "code",
   "execution_count": 19,
   "metadata": {},
   "outputs": [],
   "source": [
    "# get avg / count / features \n",
    "\n",
    "#movie_ID_with_ratings_RDD\n",
    "#movie_ID_with_avg_ratings_RDD\n",
    "#movie_rating_counts_RDD\n",
    "\n",
    "small_movie_ID_with_ratings_RDD = (small_ratings_data.map(lambda x: (x[1], x[2])).groupByKey())\n",
    "small_movie_ID_avg_ratings_RDD = small_movie_ID_with_ratings_RDD.map(get_counts_and_averages)\n",
    "\n",
    "small_movie_rating_counts_RDD = small_movie_ID_avg_ratings_RDD.map(lambda x: (x[0], x[1][0]))"
   ]
  },
  {
   "cell_type": "code",
   "execution_count": 186,
   "metadata": {},
   "outputs": [],
   "source": [
    "#small_movie_rating_counts_RDD.take(10)"
   ]
  },
  {
   "cell_type": "code",
   "execution_count": 21,
   "metadata": {},
   "outputs": [
    {
     "name": "stdout",
     "output_type": "stream",
     "text": [
      "New user ratings: [(0, 260, 9), (0, 1, 8), (0, 16, 7), (0, 25, 8), (0, 32, 9), (0, 335, 4), (0, 379, 3), (0, 296, 7), (0, 858, 10), (0, 50, 8)]\n"
     ]
    }
   ],
   "source": [
    "### create user comment (new data)\n",
    "\n",
    "new_user_ID = 0\n",
    "\n",
    "# The format of each line is (userID, movieID, rating)\n",
    "new_user_ratings = [\n",
    "     (0,260,9), # Star Wars (1977)\n",
    "     (0,1,8), # Toy Story (1995)\n",
    "     (0,16,7), # Casino (1995)\n",
    "     (0,25,8), # Leaving Las Vegas (1995)\n",
    "     (0,32,9), # Twelve Monkeys (a.k.a. 12 Monkeys) (1995)\n",
    "     (0,335,4), # Flintstones, The (1994)\n",
    "     (0,379,3), # Timecop (1994)\n",
    "     (0,296,7), # Pulp Fiction (1994)\n",
    "     (0,858,10) , # Godfather, The (1972)\n",
    "     (0,50,8) # Usual Suspects, The (1995)\n",
    "    ]\n",
    "new_user_ratings_RDD = sc.parallelize(new_user_ratings)\n",
    "print ('New user ratings: %s' % new_user_ratings_RDD.take(10))"
   ]
  },
  {
   "cell_type": "code",
   "execution_count": 22,
   "metadata": {},
   "outputs": [],
   "source": [
    "# add \"New user ratings\" to  small_ratings_data\n",
    "small_ratings_data_with_new_ratings_RDD = small_ratings_data.union(new_user_ratings_RDD)\n"
   ]
  },
  {
   "cell_type": "code",
   "execution_count": 24,
   "metadata": {},
   "outputs": [],
   "source": [
    "\n",
    "seed = 30\n",
    "iterations = 10\n",
    "regularization_parameter = 0.1\n",
    "ranks = [4, 8, 12]\n",
    "errors = [0, 0, 0]\n",
    "err = 0\n",
    "tolerance = 0.02"
   ]
  },
  {
   "cell_type": "code",
   "execution_count": 37,
   "metadata": {},
   "outputs": [
    {
     "name": "stdout",
     "output_type": "stream",
     "text": [
      "New model trained in 4.192 seconds\n"
     ]
    }
   ],
   "source": [
    "\n",
    "from time import time\n",
    "\n",
    "t0 = time()\n",
    "new_ratings_model = ALS.train(small_ratings_data_with_new_ratings_RDD, best_rank, seed=seed, \n",
    "                              iterations=iterations, lambda_=regularization_parameter)\n",
    "tt = time() - t0\n",
    "\n",
    "print (\"New model trained in %s seconds\" % round(tt,3))\n"
   ]
  },
  {
   "cell_type": "code",
   "execution_count": 38,
   "metadata": {},
   "outputs": [
    {
     "data": {
      "text/plain": [
       "<pyspark.mllib.recommendation.MatrixFactorizationModel at 0x10c6c1dd8>"
      ]
     },
     "execution_count": 38,
     "metadata": {},
     "output_type": "execute_result"
    }
   ],
   "source": [
    "new_ratings_model"
   ]
  },
  {
   "cell_type": "code",
   "execution_count": 39,
   "metadata": {},
   "outputs": [],
   "source": [
    "new_user_ratings_ids = map(lambda x: x[1], new_user_ratings) # get just movie IDs\n",
    "# keep just those not on the ID list (thanks Lei Li for spotting the error!)\n",
    "new_user_unrated_movies_RDD = (small_ratings_data_with_new_ratings_RDD.filter(lambda x: x[0] not in new_user_ratings_ids).map(lambda x: (new_user_ID, x[0])))\n",
    "\n",
    "# Use the input RDD, new_user_unrated_movies_RDD, with new_ratings_model.predictAll() to predict new ratings for the movies\n",
    "new_user_recommendations_RDD = new_ratings_model.predictAll(small_movie_rating_counts_RDD)\n",
    "\n"
   ]
  },
  {
   "cell_type": "code",
   "execution_count": 41,
   "metadata": {},
   "outputs": [
    {
     "data": {
      "text/plain": [
       "[(16, ((3.925905239758646, 'Casino (1995)'), 88)),\n",
       " (16, ((4.3375719299637545, 'Casino (1995)'), 88)),\n",
       " (16, ((2.7234310871261815, 'Casino (1995)'), 88))]"
      ]
     },
     "execution_count": 41,
     "metadata": {},
     "output_type": "execute_result"
    }
   ],
   "source": [
    "# Transform new_user_recommendations_RDD into pairs of the form (Movie ID, Predicted Rating)\n",
    "new_user_recommendations_rating_RDD = new_user_recommendations_RDD.map(lambda x: (x.product, x.rating))\n",
    "new_user_recommendations_rating_title_and_count_RDD = \\\n",
    "    new_user_recommendations_rating_RDD.join(small_movies_titles).join(small_movie_rating_counts_RDD)\n",
    "new_user_recommendations_rating_title_and_count_RDD.take(3)\n",
    "\n"
   ]
  },
  {
   "cell_type": "code",
   "execution_count": 44,
   "metadata": {},
   "outputs": [
    {
     "name": "stdout",
     "output_type": "stream",
     "text": [
      "TOP recommended movies (with more than 25 reviews):\n",
      "('Four Rooms (1995)', 4.962593477238005, 26)\n",
      "('Toy Story (1995)', 4.684409274730289, 247)\n",
      "('Sense and Sensibility (1995)', 4.594700692133663, 86)\n",
      "('Heat (1995)', 4.5856974168982605, 104)\n",
      "('Toy Story (1995)', 4.526296826793137, 247)\n",
      "('Father of the Bride Part II (1995)', 4.503322125116864, 56)\n",
      "('Toy Story (1995)', 4.489685055421996, 247)\n",
      "('Heat (1995)', 4.414854405930663, 104)\n",
      "('Toy Story (1995)', 4.3860048054231235, 247)\n",
      "('Sense and Sensibility (1995)', 4.3764159874808835, 86)\n",
      "('Toy Story (1995)', 4.375264095624171, 247)\n",
      "('\"City of Lost Children', 4.3719383586166884, 40)\n",
      "('Jumanji (1995)', 4.366295872814058, 107)\n",
      "('Toy Story (1995)', 4.354807053314385, 247)\n",
      "('Casino (1995)', 4.343167892672357, 88)\n",
      "('Casino (1995)', 4.3375719299637545, 88)\n",
      "('Casino (1995)', 4.33085161463724, 88)\n",
      "('\"Usual Suspects', 4.30273024011923, 201)\n",
      "(\"Mr. Holland's Opus (1995)\", 4.298549528710479, 87)\n",
      "('Toy Story (1995)', 4.2965771675293, 247)\n",
      "('\"American President', 4.274193249277184, 82)\n",
      "('Toy Story (1995)', 4.251481521233923, 247)\n",
      "('Twelve Monkeys (a.k.a. 12 Monkeys) (1995)', 4.234883548557249, 196)\n",
      "('Braveheart (1995)', 4.222737527567406, 228)\n",
      "('Mighty Aphrodite (1995)', 4.218245498061268, 51)\n"
     ]
    }
   ],
   "source": [
    "top_movies = new_user_recommendations_rating_title_and_count_RDD.filter(lambda r: r[2]>=25).takeOrdered(25, key=lambda x: -x[1])\n",
    "\n",
    "print ('TOP recommended movies (with more than 25 reviews):\\n%s' %\n",
    "        '\\n'.join(map(str, top_movies)))"
   ]
  },
  {
   "cell_type": "code",
   "execution_count": null,
   "metadata": {},
   "outputs": [],
   "source": []
  },
  {
   "cell_type": "code",
   "execution_count": 188,
   "metadata": {},
   "outputs": [],
   "source": [
    "########################## run the whole training process  ##########################\n"
   ]
  },
  {
   "cell_type": "code",
   "execution_count": 105,
   "metadata": {},
   "outputs": [
    {
     "name": "stdout",
     "output_type": "stream",
     "text": [
      "For rank 4 the RMSE is 0.9408799307255916\n",
      "For rank 8 the RMSE is 0.9475998032664866\n",
      "For rank 12 the RMSE is 0.9496789864812137\n",
      "The best model was trained with rank 4\n",
      "************\n",
      "For testing data the RMSE is 0.948721758451241\n",
      "************\n",
      "[(2.0, 107), (97328.0, 1), (4.0, 13)]\n",
      "New user ratings: [(0, 260, 9), (0, 1, 8), (0, 16, 7), (0, 25, 8), (0, 32, 9), (0, 335, 4), (0, 379, 3), (0, 296, 7), (0, 858, 10), (0, 50, 8)]\n",
      "[(1.0, 31.0, 2.5), (1.0, 1029.0, 3.0), (1.0, 1061.0, 3.0), (1.0, 1129.0, 2.0), (1.0, 1172.0, 4.0), (1.0, 1263.0, 2.0), (1.0, 1287.0, 2.0), (1.0, 1293.0, 2.0), (1.0, 1339.0, 3.5), (1.0, 1343.0, 2.0)]\n",
      "<pyspark.mllib.recommendation.MatrixFactorizationModel object at 0x111aa4390>\n",
      "=======================\n",
      "[Rating(user=0, product=496, rating=5.916224600729824), Rating(user=0, product=349, rating=6.165838514210409), Rating(user=0, product=353, rating=6.1812863730122825), Rating(user=0, product=271, rating=4.8335955795266425), Rating(user=0, product=335, rating=4.15584619159136), Rating(user=0, product=312, rating=5.773801618133824), Rating(user=0, product=96, rating=1.6675354378462282), Rating(user=0, product=425, rating=6.551042158690938), Rating(user=0, product=251, rating=4.749453786985258), Rating(user=0, product=455, rating=4.441779083807681)]\n",
      "=======================\n",
      "=======================\n",
      "TOP recommended movies (with more than 25 reviews):\n",
      "('\"Postman', 8.799329003993375, 45)\n",
      "('Shadowlands (1993)', 8.522045319247562, 25)\n",
      "('\"Madness of King George', 8.517315636677042, 39)\n",
      "('Shallow Grave (1994)', 8.460473843101195, 38)\n",
      "('\"Shawshank Redemption', 8.392621787267679, 311)\n",
      "('\"Usual Suspects', 8.34299873957546, 201)\n",
      "(\"Schindler's List (1993)\", 8.327829872104124, 244)\n",
      "('\"Remains of the Day', 8.325397737582897, 46)\n",
      "('Three Colors: Red (Trois couleurs: Rouge) (1994)', 8.325049982909732, 32)\n",
      "('Fargo (1996)', 8.314538759182922, 224)\n",
      "('In the Name of the Father (1993)', 8.278309549089208, 31)\n",
      "('Pulp Fiction (1994)', 8.25876240525476, 324)\n",
      "('Hoop Dreams (1994)', 8.254244496540839, 61)\n",
      "('Searching for Bobby Fischer (1993)', 8.137494762727776, 45)\n",
      "('Three Colors: Blue (Trois couleurs: Bleu) (1993)', 8.124997685535352, 31)\n",
      "('\"City of Lost Children', 8.06900109014378, 40)\n",
      "('Mystery Science Theater 3000: The Movie (1996)', 8.055024356863075, 33)\n",
      "('Star Wars: Episode IV - A New Hope (1977)', 8.048430843995435, 291)\n",
      "('\"Hudsucker Proxy', 8.031615721738133, 49)\n",
      "('Heavenly Creatures (1994)', 8.008045456962229, 43)\n",
      "('Léon: The Professional (a.k.a. The Professional) (Léon) (1994)', 8.004693631107212, 132)\n",
      "('Like Water for Chocolate (Como agua para chocolate) (1992)', 7.985160321089869, 62)\n",
      "('Taxi Driver (1976)', 7.955982328737049, 118)\n",
      "('Sense and Sensibility (1995)', 7.945264458703306, 86)\n",
      "('\"Piano', 7.846991400658464, 78)\n",
      "=======================\n"
     ]
    }
   ],
   "source": [
    "\n",
    "#get_data_preview()\n",
    "# get data \n",
    "small_ratings_data, small_movies_data, small_movies_titles = get_data()\n",
    "# train, test split \n",
    "training_RDD, validation_RDD, test_RDD, validation_for_predict_RDD, test_for_predict_RDD = train_test_split(small_ratings_data)\n",
    "# ------------ Model Training  ------------ #\n",
    "# train ALS model \n",
    "model, predictions, rates_and_preds, min_error,best_rank, parameter = ALS_model(training_RDD,validation_RDD,validation_for_predict_RDD)\n",
    "# predict with trained ALS model \n",
    "print ('************')\n",
    "ALS_model_predict(model,test_for_predict_RDD,test_RDD)\n",
    "print ('************')\n",
    "\n",
    "\n",
    "\n",
    "#### train with new input data ###\n",
    "# get avg / count / features\n",
    "small_movie_ID_with_ratings_RDD = (small_ratings_data.map(lambda x: (x[1], x[2])).groupByKey())\n",
    "small_movie_ID_avg_ratings_RDD = small_movie_ID_with_ratings_RDD.map(get_counts_and_averages)\n",
    "small_movie_rating_counts_RDD = small_movie_ID_avg_ratings_RDD.map(lambda x: (x[0], x[1][0]))\n",
    "print (small_movie_rating_counts_RDD.take(3))\n",
    "# add \"New user ratings\" to small_ratings_data\n",
    "new_user_ratings_RDD, new_user_ratings,new_user_ID = get_new_input_data()\n",
    "small_ratings_data_with_new_ratings_RDD = small_ratings_data.union(new_user_ratings_RDD)\n",
    "print (small_ratings_data_with_new_ratings_RDD.take(10))\n",
    "# re-train the model with merged data \n",
    "new_ratings_model = ALS.train(small_ratings_data_with_new_ratings_RDD, best_rank, seed=parameter['seed'], \n",
    "                          iterations=parameter['iterations'], lambda_=parameter['regularization_parameter'])\n",
    "print (new_ratings_model)\n",
    "new_user_ratings_ids = map(lambda x: x[1], new_user_ratings) # get just movie IDs\n",
    "# keep just those not on the ID list (thanks Lei Li for spotting the error!)\n",
    "new_user_unrated_movies_RDD = (small_ratings_data_with_new_ratings_RDD.filter(lambda x: x[0] not in new_user_ratings_ids).map(lambda x: (new_user_ID, x[0])))\n",
    "\n",
    "# Use the input RDD, new_user_unrated_movies_RDD, with new_ratings_model.predictAll() to predict new ratings for the movies\n",
    "#new_user_recommendations_RDD = new_ratings_model.predictAll(small_movie_rating_counts_RDD)\n",
    "new_user_recommendations_RDD = new_ratings_model.predictAll(new_user_unrated_movies_RDD)\n",
    "print ('=======================')\n",
    "print (new_user_recommendations_RDD.distinct().take(10)) # remove duplicate recommended movie ids \n",
    "print ('=======================')\n",
    "# Transform new_user_recommendations_RDD into pairs of the form (Movie ID, Predicted Rating)\n",
    "new_user_recommendations_rating_RDD = new_user_recommendations_RDD.map(lambda x: (x.product, x.rating))\n",
    "new_user_recommendations_rating_title_and_count_RDD = \\\n",
    "    new_user_recommendations_rating_RDD.join(small_movies_titles).join(small_movie_rating_counts_RDD)\n",
    "new_user_recommendations_rating_title_and_count_RDD = \\\n",
    "new_user_recommendations_rating_title_and_count_RDD.map(lambda r: (r[1][0][1], r[1][0][0], r[1][1]))\n",
    "# remove duplicate recommended movie ids \n",
    "top_movies = new_user_recommendations_rating_title_and_count_RDD.distinct().filter(lambda r: r[2]>=25).takeOrdered(25, key=lambda x: -x[1])\n",
    "print ('=======================')\n",
    "print ('TOP recommended movies (with more than 25 reviews):\\n%s' %\n",
    "        '\\n'.join(map(str, top_movies)))\n",
    "print ('=======================')"
   ]
  },
  {
   "cell_type": "code",
   "execution_count": null,
   "metadata": {},
   "outputs": [],
   "source": []
  },
  {
   "cell_type": "code",
   "execution_count": null,
   "metadata": {},
   "outputs": [],
   "source": []
  },
  {
   "cell_type": "code",
   "execution_count": null,
   "metadata": {},
   "outputs": [],
   "source": []
  }
 ],
 "metadata": {
  "kernelspec": {
   "display_name": "Environment (conda_pyspark_)",
   "language": "python",
   "name": "conda_pyspark_"
  },
  "language_info": {
   "codemirror_mode": {
    "name": "ipython",
    "version": 3
   },
   "file_extension": ".py",
   "mimetype": "text/x-python",
   "name": "python",
   "nbconvert_exporter": "python",
   "pygments_lexer": "ipython3",
   "version": "3.5.5"
  }
 },
 "nbformat": 4,
 "nbformat_minor": 2
}
